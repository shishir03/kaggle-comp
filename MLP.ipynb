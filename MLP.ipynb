{
 "cells": [
  {
   "cell_type": "code",
   "execution_count": 29,
   "metadata": {},
   "outputs": [],
   "source": [
    "import torch\n",
    "import torch.nn as nn\n",
    "import torch.optim as optim\n",
    "import pandas as pd\n",
    "from sklearn.preprocessing import LabelEncoder\n",
    "from sklearn.model_selection import train_test_split"
   ]
  },
  {
   "cell_type": "code",
   "execution_count": 30,
   "metadata": {},
   "outputs": [],
   "source": [
    "# Load the dataset\n",
    "train_df = pd.read_csv('archive/train.csv')\n",
    "test_df = pd.read_csv('archive/test_public.csv')"
   ]
  },
  {
   "cell_type": "code",
   "execution_count": 59,
   "metadata": {},
   "outputs": [],
   "source": [
    "# Preprocess the data\n",
    "encoder = LabelEncoder()\n",
    "train_df['CALL_TYPE'] = encoder.fit_transform(train_df['CALL_TYPE'])\n",
    "\n",
    "# Split the data into features and target\n",
    "features = train_df.drop(['TRIP_ID', 'MISSING_DATA', 'POLYLINE'], axis=1)\n",
    "target = train_df['POLYLINE'].str.count(',') * 15\n",
    "\n",
    "# Perform one-hot encoding for categorical features\n",
    "categorical_cols = ['CALL_TYPE', 'DAY_TYPE']\n",
    "encoded_features = pd.get_dummies(features, columns=categorical_cols)\n",
    "\n",
    "# Split the data into training and validation sets\n",
    "X_train, X_val, y_train, y_val = train_test_split(encoded_features, target, test_size=0.2, random_state=42)\n"
   ]
  },
  {
   "cell_type": "code",
   "execution_count": 61,
   "metadata": {},
   "outputs": [],
   "source": [
    "# Define the MLP model\n",
    "class MLP(nn.Module):\n",
    "    def __init__(self, input_dim, hidden_dim, output_dim):\n",
    "        super(MLP, self).__init__()\n",
    "        self.fc1 = nn.Linear(input_dim, hidden_dim)\n",
    "        self.relu = nn.ReLU()\n",
    "        self.fc2 = nn.Linear(hidden_dim, output_dim)\n",
    "        \n",
    "    def forward(self, x):\n",
    "        out = self.fc1(x)\n",
    "        out = self.relu(out)\n",
    "        out = self.fc2(out)\n",
    "        return out\n",
    "    \n",
    "# Set the hyperparameters\n",
    "input_dim = len(encoded_features.columns)\n",
    "hidden_dim = 128  # Adjusted hidden dimension\n",
    "output_dim = 1\n",
    "lr = 0.001\n",
    "epochs = 10\n",
    "batch_size = 32\n"
   ]
  },
  {
   "cell_type": "code",
   "execution_count": 62,
   "metadata": {},
   "outputs": [],
   "source": [
    "# Create the model, loss function, and optimizer\n",
    "model = MLP(input_dim, hidden_dim, output_dim)\n",
    "criterion = nn.MSELoss()\n",
    "optimizer = optim.Adam(model.parameters(), lr=lr)"
   ]
  },
  {
   "cell_type": "code",
   "execution_count": 63,
   "metadata": {},
   "outputs": [],
   "source": [
    "# Convert data to PyTorch tensors\n",
    "X_train = torch.tensor(X_train.values, dtype=torch.float)\n",
    "y_train = torch.tensor(y_train.values, dtype=torch.float)\n",
    "X_val = torch.tensor(X_val.values, dtype=torch.float)\n",
    "y_val = torch.tensor(y_val.values, dtype=torch.float)\n",
    "\n",
    "# Check for NaN values and replace with zeros\n",
    "X_train = torch.where(torch.isnan(X_train), torch.zeros_like(X_train), X_train)\n",
    "y_train = torch.where(torch.isnan(y_train), torch.zeros_like(y_train), y_train)\n",
    "X_val = torch.where(torch.isnan(X_val), torch.zeros_like(X_val), X_val)\n",
    "y_val = torch.where(torch.isnan(y_val), torch.zeros_like(y_val), y_val)\n",
    "\n",
    "\n",
    "# Create data loaders\n",
    "train_data = torch.utils.data.TensorDataset(X_train, y_train)\n",
    "train_loader = torch.utils.data.DataLoader(train_data, batch_size=batch_size, shuffle=True)\n"
   ]
  },
  {
   "cell_type": "code",
   "execution_count": 66,
   "metadata": {},
   "outputs": [
    {
     "name": "stdout",
     "output_type": "stream",
     "text": [
      "Epoch 1/10, Loss: 42182682.45487369\n",
      "Epoch 2/10, Loss: 11446706.554097503\n",
      "Epoch 3/10, Loss: 3515010.886334046\n",
      "Epoch 4/10, Loss: 455102.0401267241\n",
      "Epoch 5/10, Loss: 121438.32529183387\n",
      "Epoch 6/10, Loss: 117759.4762629572\n",
      "Epoch 7/10, Loss: 114197.9958021536\n",
      "Epoch 8/10, Loss: 110750.23229071371\n",
      "Epoch 9/10, Loss: 107413.5042414146\n",
      "Epoch 10/10, Loss: 104195.85570243814\n"
     ]
    }
   ],
   "source": [
    "# Train the model\n",
    "model.train()\n",
    "for epoch in range(epochs):\n",
    "    running_loss = 0.0\n",
    "    for i, data in enumerate(train_loader, 0):\n",
    "        inputs, labels = data\n",
    "        optimizer.zero_grad()\n",
    "        \n",
    "        outputs = model(inputs)\n",
    "        loss = criterion(outputs, labels.unsqueeze(1))\n",
    "        loss.backward()\n",
    "        optimizer.step()\n",
    "        \n",
    "        running_loss += loss.item() / batch_size\n",
    "    print(f'Epoch {epoch+1}/{epochs}, Loss: {running_loss/len(train_loader)}')\n"
   ]
  },
  {
   "cell_type": "code",
   "execution_count": 68,
   "metadata": {},
   "outputs": [
    {
     "name": "stdout",
     "output_type": "stream",
     "text": [
      "Validation Loss: 3288681.0\n"
     ]
    }
   ],
   "source": [
    "# Evaluate the model\n",
    "model.eval()\n",
    "with torch.no_grad():\n",
    "    val_outputs = model(X_val)\n",
    "    val_loss = criterion(val_outputs, y_val.unsqueeze(1))\n",
    "    print(f'Validation Loss: {val_loss.item()}')"
   ]
  }
 ],
 "metadata": {
  "kernelspec": {
   "display_name": "base",
   "language": "python",
   "name": "python3"
  },
  "language_info": {
   "codemirror_mode": {
    "name": "ipython",
    "version": 3
   },
   "file_extension": ".py",
   "mimetype": "text/x-python",
   "name": "python",
   "nbconvert_exporter": "python",
   "pygments_lexer": "ipython3",
   "version": "3.10.9"
  },
  "orig_nbformat": 4
 },
 "nbformat": 4,
 "nbformat_minor": 2
}
